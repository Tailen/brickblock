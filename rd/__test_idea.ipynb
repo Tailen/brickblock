{
 "cells": [
  {
   "cell_type": "code",
   "execution_count": null,
   "metadata": {},
   "outputs": [],
   "source": [
    "class MyPipeline:\n",
    "    pass\n",
    "\n",
    "def my_function(name: str, age: int):\n",
    "    return {\"message\": f\"Hello {name}, you are {age} years old.\"}\n"
   ]
  },
  {
   "cell_type": "code",
   "execution_count": null,
   "metadata": {},
   "outputs": [],
   "source": [
    "from fastapi import FastAPI, APIRouter, Depends, Body\n",
    "from typing import Callable, get_type_hints\n",
    "import inspect\n",
    "\n",
    "class APIBuilder:\n",
    "    \n",
    "    def __init__(self):\n",
    "        self.router:APIRouter = None  \n",
    "        \n",
    "    \n",
    "    @staticmethod\n",
    "    def init():\n",
    "        __api = APIBuilder()\n",
    "        __api.router = APIRouter()\n",
    "        return __api\n",
    "\n",
    "\n",
    "    # app = FastAPI()\n",
    "\n",
    "    def add_endpoint_to_router(self, func: Callable, mode: str = 'query'):\n",
    "        \"\"\"\n",
    "        Dynamically adds an endpoint to a FastAPI router based on the provided function.\n",
    "        The function's name is used as the endpoint name, and its parameters are used as query parameters or a request body.\n",
    "\n",
    "        Args:\n",
    "        - router: The FastAPI APIRouter to add the endpoint to.\n",
    "        - func: The function to create the endpoint from.\n",
    "        - mode: 'query' for query parameters, 'body' for a request body. Defaults to 'query'.\n",
    "        \"\"\"\n",
    "        endpoint_path = f\"/{func.__name__}\"  # Use function name as the endpoint path\n",
    "        type_hints = get_type_hints(func)\n",
    "        \n",
    "        async def endpoint(**kwargs):\n",
    "            return func(**kwargs)\n",
    "\n",
    "        if mode == 'query':\n",
    "            # Use function parameters as query parameters\n",
    "            params = inspect.signature(func).parameters\n",
    "            dependencies = [\n",
    "                Depends(lambda name=param.name, annotation=param.annotation: Body(..., example=\"example\")) if mode == 'body' else None\n",
    "                for param in params.values()\n",
    "            ]\n",
    "            self.router.add_api_route(endpoint_path, endpoint, methods=[\"GET\"], dependencies=dependencies)\n",
    "        elif mode == 'body':\n",
    "            # Use a single request body object that matches the function's parameters\n",
    "            async def endpoint(body: dict = Body(...)):\n",
    "                return func(**body)\n",
    "            self.router.add_api_route(endpoint_path, endpoint, methods=[\"POST\"])\n",
    "\n",
    "    # Example function to create an endpoint from\n",
    "\n",
    "    # Adding the endpoint to the router\n",
    "    # add_endpoint_to_router(router, my_function, mode='query')\n",
    "\n",
    "    # Including the router in the FastAPI app\n",
    "    # app.include_router(router)\n"
   ]
  }
 ],
 "metadata": {
  "language_info": {
   "name": "python"
  }
 },
 "nbformat": 4,
 "nbformat_minor": 2
}
