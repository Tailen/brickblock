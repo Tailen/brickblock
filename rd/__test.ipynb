{
 "cells": [
  {
   "cell_type": "code",
   "execution_count": 1,
   "metadata": {},
   "outputs": [
    {
     "name": "stdout",
     "output_type": "stream",
     "text": [
      "{'name': None, 'age': None, 'country': 'Unknown'}\n",
      "{'name': {'default': None, 'type': <class 'str'>}, 'age': {'default': None, 'type': <class 'int'>}, 'country': {'default': 'Unknown', 'type': None}}\n"
     ]
    }
   ],
   "source": [
    "import inspect\n",
    "from typing import get_type_hints\n",
    "\n",
    "def example_function(name: str, age: int, country=\"Unknown\"):\n",
    "    pass\n",
    "\n",
    "def get_function_parameters(func):\n",
    "    \"\"\"\n",
    "    Returns a dictionary containing the names and default values\n",
    "    of the input parameters for the given function.\n",
    "    If a parameter has no default value, it is marked as None.\n",
    "    \"\"\"\n",
    "    signature = inspect.signature(func)\n",
    "    parameters = {}\n",
    "    for name, param in signature.parameters.items():\n",
    "        parameters[name] = param.default if param.default is not inspect.Parameter.empty else None\n",
    "    return parameters\n",
    "\n",
    "def get_function_parameters_with_types(func):\n",
    "    \"\"\"\n",
    "    Returns a dictionary containing the names, default values,\n",
    "    and type annotations of the input parameters for the given function.\n",
    "    If a parameter has no default value, it is marked as None.\n",
    "    Type annotations are also included if available.\n",
    "    \"\"\"\n",
    "    signature = inspect.signature(func)\n",
    "    type_hints = get_type_hints(func)\n",
    "    parameters = {}\n",
    "    for name, param in signature.parameters.items():\n",
    "        parameter_info = {\n",
    "            \"default\": param.default if param.default is not inspect.Parameter.empty else None,\n",
    "            \"type\": type_hints.get(name, None)\n",
    "        }\n",
    "        parameters[name] = parameter_info\n",
    "    return parameters\n",
    "\n",
    "# Usage\n",
    "parameters = get_function_parameters(example_function)\n",
    "print(parameters)\n",
    "\n",
    "parameters_with_types = get_function_parameters_with_types(example_function)\n",
    "print(parameters_with_types)\n"
   ]
  },
  {
   "cell_type": "code",
   "execution_count": 2,
   "metadata": {},
   "outputs": [
    {
     "name": "stdout",
     "output_type": "stream",
     "text": [
      "'dict_type'\n"
     ]
    }
   ],
   "source": [
    "from pydantic import BaseModel, ValidationError\n",
    "\n",
    "\n",
    "class Model(BaseModel):\n",
    "    x: dict\n",
    "\n",
    "\n",
    "try:\n",
    "    Model(x=['1', '2'])\n",
    "except ValidationError as exc:\n",
    "    print(repr(exc.errors()[0]['type']))\n",
    "    #> 'dict_type'\n"
   ]
  }
 ],
 "metadata": {
  "kernelspec": {
   "display_name": "ai",
   "language": "python",
   "name": "python3"
  },
  "language_info": {
   "codemirror_mode": {
    "name": "ipython",
    "version": 3
   },
   "file_extension": ".py",
   "mimetype": "text/x-python",
   "name": "python",
   "nbconvert_exporter": "python",
   "pygments_lexer": "ipython3",
   "version": "3.10.13"
  }
 },
 "nbformat": 4,
 "nbformat_minor": 2
}
