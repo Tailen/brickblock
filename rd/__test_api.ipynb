{
 "cells": [
  {
   "cell_type": "code",
   "execution_count": null,
   "metadata": {},
   "outputs": [],
   "source": [
    "from fastapi import FastAPI, APIRouter, Depends, Body\n",
    "from typing import Callable, get_type_hints\n",
    "import inspect\n",
    "\n",
    "app = FastAPI()\n",
    "router = APIRouter()\n",
    "\n",
    "def add_endpoint_to_router(router: APIRouter, func: Callable, mode: str = 'query'):\n",
    "    \"\"\"\n",
    "    Dynamically adds an endpoint to a FastAPI router based on the provided function.\n",
    "    The function's name is used as the endpoint name, and its parameters are used as query parameters or a request body.\n",
    "\n",
    "    Args:\n",
    "    - router: The FastAPI APIRouter to add the endpoint to.\n",
    "    - func: The function to create the endpoint from.\n",
    "    - mode: 'query' for query parameters, 'body' for a request body. Defaults to 'query'.\n",
    "    \"\"\"\n",
    "    endpoint_path = f\"/{func.__name__}\"  # Use function name as the endpoint path\n",
    "    type_hints = get_type_hints(func)\n",
    "    \n",
    "    async def endpoint(**kwargs):\n",
    "        return func(**kwargs)\n",
    "\n",
    "    if mode == 'query':\n",
    "        # Use function parameters as query parameters\n",
    "        params = inspect.signature(func).parameters\n",
    "        dependencies = [\n",
    "            Depends(lambda name=param.name, annotation=param.annotation: Body(..., example=\"example\")) if mode == 'body' else None\n",
    "            for param in params.values()\n",
    "        ]\n",
    "        router.add_api_route(endpoint_path, endpoint, methods=[\"GET\"], dependencies=dependencies)\n",
    "    elif mode == 'body':\n",
    "        # Use a single request body object that matches the function's parameters\n",
    "        async def endpoint(body: dict = Body(...)):\n",
    "            return func(**body)\n",
    "        router.add_api_route(endpoint_path, endpoint, methods=[\"POST\"])\n",
    "\n",
    "# Example function to create an endpoint from\n",
    "def my_function(name: str, age: int):\n",
    "    return {\"message\": f\"Hello {name}, you are {age} years old.\"}\n",
    "\n",
    "# Adding the endpoint to the router\n",
    "add_endpoint_to_router(router, my_function, mode='query')\n",
    "\n",
    "# Including the router in the FastAPI app\n",
    "app.include_router(router)\n"
   ]
  },
  {
   "cell_type": "code",
   "execution_count": 4,
   "metadata": {},
   "outputs": [
    {
     "data": {
      "text/plain": [
       "<Signature (profile: __main__.UserProfile) -> __main__.UserProfileOutput>"
      ]
     },
     "execution_count": 4,
     "metadata": {},
     "output_type": "execute_result"
    }
   ],
   "source": [
    "import inspect\n",
    "from pydantic import BaseModel\n",
    "\n",
    "# Example Pydantic model\n",
    "\n",
    "class UserProfile(BaseModel):\n",
    "    username: str\n",
    "    biography: str\n",
    "    \n",
    "class UserProfileOutput(BaseModel):\n",
    "    desc: str\n",
    "    id: int\n",
    "\n",
    "\n",
    "# Example function using Pydantic model as input and output\n",
    "async def user_profile_func(profile: UserProfile) -> UserProfileOutput:\n",
    "    # Modify the profile as needed\n",
    "    return UserProfileOutput(\n",
    "        desc=f'hello {profile.username}: {profile.biography}',\n",
    "        id=1222\n",
    "    )\n",
    "\n",
    "sig = inspect.signature(user_profile_func)\n",
    "sig"
   ]
  },
  {
   "cell_type": "code",
   "execution_count": 12,
   "metadata": {},
   "outputs": [
    {
     "data": {
      "text/plain": [
       "__main__.UserProfileOutput"
      ]
     },
     "execution_count": 12,
     "metadata": {},
     "output_type": "execute_result"
    }
   ],
   "source": [
    "sig.return_annotation"
   ]
  },
  {
   "cell_type": "code",
   "execution_count": 10,
   "metadata": {},
   "outputs": [
    {
     "name": "stdout",
     "output_type": "stream",
     "text": [
      "profile || profile: __main__.UserProfile\n",
      "profile || <class '__main__.UserProfile'>\n"
     ]
    }
   ],
   "source": [
    "for name, param in sig.parameters.items():\n",
    "    print(f'{name} || {param}')\n",
    "    print(f'{name} || {param.annotation}')"
   ]
  }
 ],
 "metadata": {
  "kernelspec": {
   "display_name": "ai",
   "language": "python",
   "name": "python3"
  },
  "language_info": {
   "codemirror_mode": {
    "name": "ipython",
    "version": 3
   },
   "file_extension": ".py",
   "mimetype": "text/x-python",
   "name": "python",
   "nbconvert_exporter": "python",
   "pygments_lexer": "ipython3",
   "version": "3.10.13"
  }
 },
 "nbformat": 4,
 "nbformat_minor": 2
}
